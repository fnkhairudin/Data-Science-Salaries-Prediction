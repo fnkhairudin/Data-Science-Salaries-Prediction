{
 "cells": [
  {
   "cell_type": "markdown",
   "metadata": {},
   "source": [
    "### 🖋 **Notebook Contents**\n",
    "\n",
    "0. Initial Setup\n",
    "1. Modelling\n",
    "2. Conclusion\n",
    "3. Recommendation\n",
    "\n",
    "****"
   ]
  },
  {
   "cell_type": "markdown",
   "metadata": {},
   "source": [
    "## `Initial Setup`"
   ]
  }
 ],
 "metadata": {
  "language_info": {
   "name": "python"
  },
  "orig_nbformat": 4
 },
 "nbformat": 4,
 "nbformat_minor": 2
}
